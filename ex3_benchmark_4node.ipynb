{
 "cells": [
  {
   "cell_type": "markdown",
   "metadata": {},
   "source": [
    "# Run Resnet50 intel-tensorflow benchmarks on four nodes with synthetic data"
   ]
  },
  {
   "cell_type": "markdown",
   "metadata": {},
   "source": [
    "### Download tensorflow benchmarks"
   ]
  },
  {
   "cell_type": "code",
   "execution_count": null,
   "metadata": {},
   "outputs": [],
   "source": [
    "%cd \n",
    "!git clone https://github.com/tensorflow/benchmarks.git"
   ]
  },
  {
   "cell_type": "markdown",
   "metadata": {},
   "source": [
    "### Write PBS benchmark commands into a file benchmark_4node.sh"
   ]
  },
  {
   "cell_type": "code",
   "execution_count": null,
   "metadata": {},
   "outputs": [],
   "source": [
    "%%writefile benchmark_4node.sh\n",
    "#!/bin/bash\n",
    "\n",
    "### Job name\n",
    "#PBS -N four_node_job\n",
    "\n",
    "### Output files\n",
    "#PBS -o four_node_job.stdout\n",
    "#PBS -e four_node_job.stderr\n",
    "\n",
    "### Request for nodes and number of processes per node\n",
    "#PBS -l nodes=4:ppn=2\n",
    "\n",
    "### activate horovod environment\n",
    "source ~/inteltfhorovod/bin/activate\n",
    "\n",
    "### Put all the nodes in hstfile without duplicates\n",
    "cp $PBS_NODEFILE hostf\n",
    "sort hostf | uniq > hstfile\n",
    "\n",
    "### run training benchmarks\n",
    "mpiexec -np 8  -ppn 2 -hostfile hstfile  -genv I_MPI_DEBUG 4  -genv KMP_BLOCKTIME 1 -genv KMP_AFFINITY granularity=fine,verbose,compact,1,0 -genv OMP_NUM_THREADS 5 -genv I_MPI_PIN_DOMAIN 6:compact --genv HOROVOD_FUSION_THRESHOLD 134217728 python ~/benchmarks/scripts/tf_cnn_benchmarks/tf_cnn_benchmarks.py --model resnet50 --batch_size 64 --num_batches 20  --mkl --num_intra_threads 6  --num_inter_threads 2 --kmp_blocktime 0 --data_format NHWC --variable_update horovod  --horovod_device cpu\n",
    "\n",
    "###deactivate environment\n",
    "deactivate"
   ]
  },
  {
   "cell_type": "markdown",
   "metadata": {},
   "source": [
    "### Check content of benchmark_4node.sh"
   ]
  },
  {
   "cell_type": "code",
   "execution_count": null,
   "metadata": {},
   "outputs": [],
   "source": [
    "!cat benchmark_4node.sh"
   ]
  },
  {
   "cell_type": "markdown",
   "metadata": {},
   "source": [
    "### Optional step : Remove all old output files"
   ]
  },
  {
   "cell_type": "code",
   "execution_count": null,
   "metadata": {},
   "outputs": [],
   "source": [
    "!rm -rf benchmark_4node.sh.*"
   ]
  },
  {
   "cell_type": "markdown",
   "metadata": {},
   "source": [
    "### Submit to queue. "
   ]
  },
  {
   "cell_type": "code",
   "execution_count": null,
   "metadata": {},
   "outputs": [],
   "source": [
    "!qsub ./benchmark_4node.sh"
   ]
  },
  {
   "cell_type": "markdown",
   "metadata": {},
   "source": [
    "### check Job status"
   ]
  },
  {
   "cell_type": "code",
   "execution_count": null,
   "metadata": {},
   "outputs": [],
   "source": [
    "!qstat"
   ]
  },
  {
   "cell_type": "markdown",
   "metadata": {},
   "source": [
    "### If the job status is finished, check the the output file with proper output name."
   ]
  },
  {
   "cell_type": "code",
   "execution_count": null,
   "metadata": {},
   "outputs": [],
   "source": [
    "!cat four_node_job.stdout"
   ]
  },
  {
   "cell_type": "markdown",
   "metadata": {},
   "source": [
    "### Notedown the number of images/sec for training"
   ]
  },
  {
   "cell_type": "code",
   "execution_count": null,
   "metadata": {},
   "outputs": [],
   "source": [
    "!grep -e \"total images\"  four_node_job.stdout"
   ]
  },
  {
   "cell_type": "markdown",
   "metadata": {},
   "source": [
    "### close the notebook"
   ]
  }
 ],
 "metadata": {
  "kernelspec": {
   "display_name": "Python 3.7 (Intel® oneAPI)",
   "language": "python",
   "name": "c009-intel_distribution_of_python_3_oneapi-beta05-python"
  },
  "language_info": {
   "codemirror_mode": {
    "name": "ipython",
    "version": 3
   },
   "file_extension": ".py",
   "mimetype": "text/x-python",
   "name": "python",
   "nbconvert_exporter": "python",
   "pygments_lexer": "ipython3",
   "version": "3.7.9"
  }
 },
 "nbformat": 4,
 "nbformat_minor": 4
}
