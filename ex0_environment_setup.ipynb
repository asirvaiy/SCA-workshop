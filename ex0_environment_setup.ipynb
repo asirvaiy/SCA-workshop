{
 "cells": [
  {
   "cell_type": "markdown",
   "metadata": {},
   "source": [
    "# Setup virtual environment for Intel Tensorflow & Horovod. This is onetime job"
   ]
  },
  {
   "cell_type": "code",
   "execution_count": 1,
   "metadata": {},
   "outputs": [
    {
     "name": "stdout",
     "output_type": "stream",
     "text": [
      "/home/u48334\n"
     ]
    }
   ],
   "source": [
    "%cd"
   ]
  },
  {
   "cell_type": "code",
   "execution_count": 1,
   "metadata": {},
   "outputs": [
    {
     "name": "stdout",
     "output_type": "stream",
     "text": [
      "Overwriting setupenv.sh\n"
     ]
    }
   ],
   "source": [
    "%%writefile setupenv.sh\n",
    "# uninstall old tensorflow\n",
    "pip uninstall intel-tensorflow\n",
    "#remove any old envuronments\n",
    "rm -rf ~/inteltfhorovod\n",
    "# create virtual environment for opensource TF\n",
    "python -m venv ~/inteltfhorovod\n",
    "# activate it\n",
    "source ~/inteltfhorovod/bin/activate\n",
    "# install tensorflow\n",
    "pip install intel-tensorflow==1.15.2 \n",
    "# install openvino dependencies\n",
    "pip install horovod==0.16.1\n",
    "# check tensorflow version\n",
    "python -c \"import tensorflow; print('Tensorflow ',tensorflow.__version__, 'installed successfully')\"\n",
    "# deactivate the virtual environment\n",
    "deactivate"
   ]
  },
  {
   "cell_type": "markdown",
   "metadata": {},
   "source": [
    "### check the content of setupenv.sh"
   ]
  },
  {
   "cell_type": "code",
   "execution_count": 2,
   "metadata": {},
   "outputs": [
    {
     "name": "stdout",
     "output_type": "stream",
     "text": [
      "# uninstall old tensorflow\n",
      "pip uninstall intel-tensorflow\n",
      "#remove any old envuronments\n",
      "rm -rf ~/inteltfhorovod\n",
      "# create virtual environment for opensource TF\n",
      "python -m venv ~/inteltfhorovod\n",
      "# activate it\n",
      "source ~/inteltfhorovod/bin/activate\n",
      "# install tensorflow\n",
      "pip install intel-tensorflow==1.15.2 \n",
      "# install openvino dependencies\n",
      "pip install horovod==0.16.1\n",
      "# check tensorflow version\n",
      "python -c \"import tensorflow; print('Tensorflow ',tensorflow.__version__, 'installed successfully')\"\n",
      "# deactivate the virtual environment\n",
      "deactivate\n"
     ]
    }
   ],
   "source": [
    "!cat setupenv.sh"
   ]
  },
  {
   "cell_type": "markdown",
   "metadata": {},
   "source": [
    "### Submit the job to the queue"
   ]
  },
  {
   "cell_type": "code",
   "execution_count": 3,
   "metadata": {},
   "outputs": [
    {
     "name": "stdout",
     "output_type": "stream",
     "text": [
      "802297.v-qsvr-1.aidevcloud\n"
     ]
    }
   ],
   "source": [
    "!qsub setupenv.sh -l nodes=1:ppn=2 -d ."
   ]
  },
  {
   "cell_type": "markdown",
   "metadata": {},
   "source": [
    "### Check the queue status "
   ]
  },
  {
   "cell_type": "code",
   "execution_count": 12,
   "metadata": {},
   "outputs": [
    {
     "name": "stdout",
     "output_type": "stream",
     "text": [
      "Job ID                    Name             User            Time Use S Queue\n",
      "------------------------- ---------------- --------------- -------- - -----\n",
      "802293.v-qsvr-1            ...ub-singleuser u48334          00:00:17 R jupyterhub     \n"
     ]
    }
   ],
   "source": [
    "!qstat"
   ]
  },
  {
   "cell_type": "markdown",
   "metadata": {},
   "source": [
    "### If the job status is finished, check the TF installed from content of the output file."
   ]
  },
  {
   "cell_type": "code",
   "execution_count": 10,
   "metadata": {},
   "outputs": [],
   "source": [
    "!grep -e \"successfully\" setupenv.sh.o*"
   ]
  },
  {
   "cell_type": "markdown",
   "metadata": {},
   "source": [
    "### Now you are ready for benchmarking. Close this Notebook. "
   ]
  }
 ],
 "metadata": {
  "kernelspec": {
   "display_name": "Python 3.7 (Intel® oneAPI)",
   "language": "python",
   "name": "c009-intel_distribution_of_python_3_oneapi-beta05-python"
  },
  "language_info": {
   "codemirror_mode": {
    "name": "ipython",
    "version": 3
   },
   "file_extension": ".py",
   "mimetype": "text/x-python",
   "name": "python",
   "nbconvert_exporter": "python",
   "pygments_lexer": "ipython3",
   "version": "3.7.9"
  }
 },
 "nbformat": 4,
 "nbformat_minor": 4
}
